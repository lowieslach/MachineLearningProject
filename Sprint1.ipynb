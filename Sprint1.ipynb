{
    "cells": [
        {
            "cell_type": "markdown",
            "metadata": {
                "id": "aajdHWy6siK_"
            },
            "source": [
                "## Sprint 1"
            ]
        },
        {
            "cell_type": "code",
            "execution_count": 22,
            "metadata": {},
            "outputs": [],
            "source": [
                "import numpy as np\n",
                "import matplotlib.pyplot as plt"
            ]
        },
        {
            "cell_type": "code",
            "execution_count": 9,
            "metadata": {},
            "outputs": [],
            "source": [
                "DATA_FOLDER = \"actions\"\n",
                "\n",
                "action_labels = ['jumping jack', 'squat', 'in_place running', 'side lunge', 'boxing', 'overhead press', 'bicep curl']"
            ]
        },
        {
            "cell_type": "markdown",
            "metadata": {
                "id": "m5vvFdAMt4mJ"
            },
            "source": [
                "## Exploratory Data Analysis\n"
            ]
        },
        {
            "cell_type": "markdown",
            "metadata": {
                "id": "cz5w4-_UuBsF"
            },
            "source": [
                "### What is contained in the name of each file?"
            ]
        },
        {
            "cell_type": "markdown",
            "metadata": {
                "id": "z4KscMnuwxYZ"
            },
            "source": [
                "The name of the files all have the following structure: `action-X-group-Y-rec-Z.npy`.\n",
                "- X defines the type of exercise that was performed\n",
                " - 0: Jumping jack\n",
                " - 1: Squat\n",
                " - 2: In-place running\n",
                " - 3: Side lunge\n",
                " - 4: Boxing\n",
                " - 5: Overhead press\n",
                " - 6: Bicep curl\n",
                "- Y defines the group that performed these exercises\n",
                "- Z defines the person of that group.\n",
                "\n",
                "The .npy format is the standard binary file format in NumPy for persisting a single arbitrary NumPy array on disk.\n",
                "\n",
                "  "
            ]
        },
        {
            "cell_type": "markdown",
            "metadata": {
                "id": "_7tUsAZhuGjl"
            },
            "source": [
                "### How can you filter data by action, or by group?"
            ]
        },
        {
            "cell_type": "code",
            "execution_count": 10,
            "metadata": {
                "colab": {
                    "base_uri": "https://localhost:8080/"
                },
                "executionInfo": {
                    "elapsed": 256,
                    "status": "ok",
                    "timestamp": 1729242207375,
                    "user": {
                        "displayName": "PiewTix",
                        "userId": "03198414659954429767"
                    },
                    "user_tz": -120
                },
                "id": "ZLZjhVQgzDjA",
                "outputId": "c50f3df2-0da3-471d-819b-a397451c53c7"
            },
            "outputs": [],
            "source": [
                "import glob\n",
                "\n",
                "#for actions\n",
                "filtered_actions = glob.glob(f'{DATA_FOLDER}/*action-[1-2]*.npy')\n",
                "\n",
                "#for groups\n",
                "filtered_groups = glob.glob(f'{DATA_FOLDER}/*group-[1-7]*.npy')"
            ]
        },
        {
            "cell_type": "markdown",
            "metadata": {
                "id": "CWaDU5Etzr66"
            },
            "source": [
                "Above, it was illustrated how to filter files using standard Regex code.\n",
                "\n",
                "`*`: this is meant to match any number of characters, including none. This will match any string of characters before the word \"action-\" or \"group-\".\n",
                "\n",
                "`[1-2]`: This part inside square brackets is a character range. It matches a single character that can be either 1 or 2.\n",
                "\n",
                "A function was made to do this:"
            ]
        },
        {
            "cell_type": "code",
            "execution_count": 11,
            "metadata": {
                "executionInfo": {
                    "elapsed": 241,
                    "status": "ok",
                    "timestamp": 1729242144036,
                    "user": {
                        "displayName": "PiewTix",
                        "userId": "03198414659954429767"
                    },
                    "user_tz": -120
                },
                "id": "yZze4oJf1L-r"
            },
            "outputs": [],
            "source": [
                "def filter_files_by_action_or_group(directory, groups_start, groups_end, action_start = 0, action_end = len(action_labels)-1):\n",
                "    filtered=glob.glob(f\"{directory}/*action-[{action_start}-{action_end}]*group-[{groups_start}-{groups_end}]*.npy\")\n",
                "    return filtered"
            ]
        },
        {
            "cell_type": "markdown",
            "metadata": {
                "id": "Ia6O8MY6uNxZ"
            },
            "source": [
                "### Is the data balanced?"
            ]
        },
        {
            "cell_type": "code",
            "execution_count": null,
            "metadata": {
                "colab": {
                    "base_uri": "https://localhost:8080/"
                },
                "executionInfo": {
                    "elapsed": 330,
                    "status": "ok",
                    "timestamp": 1729242145999,
                    "user": {
                        "displayName": "PiewTix",
                        "userId": "03198414659954429767"
                    },
                    "user_tz": -120
                },
                "id": "hkcLhugd2kCE",
                "outputId": "9fce036c-ce8a-4921-8750-be87c826cb5a"
            },
            "outputs": [],
            "source": [
                "actions = range(0, len(action_labels))\n",
                "data_count = []\n",
                "\n",
                "for action in actions:\n",
                "    files = filter_files_by_action_or_group(DATA_FOLDER, 0, 9, action, action)\n",
                "    data_count.append(len(files))\n",
                "\n",
                "plt.figure(figsize=(10, 6))\n",
                "plt.bar(action_labels, data_count, color='blue')\n",
                "plt.xlabel('Actions')\n",
                "plt.ylabel('Number of files')\n",
                "plt.title('Number of Files per Action')\n",
                "plt.xticks(actions)\n",
                "plt.show()"
            ]
        },
        {
            "cell_type": "markdown",
            "metadata": {},
            "source": [
                "### What does the data look like?"
            ]
        },
        {
            "cell_type": "code",
            "execution_count": null,
            "metadata": {},
            "outputs": [],
            "source": [
                "import numpy as np\n",
                "\n",
                "arr=np.load(filtered_actions[0]) # load 1 file\n",
                "nb_samples, nb_keypoints, nb_values=arr.shape\n",
                "arr.shape"
            ]
        },
        {
            "cell_type": "markdown",
            "metadata": {},
            "source": [
                "The array consists of 450 samples that contain the 18 keypoints their position. The value contains the X and Y position and the last value is the confidence that this keypoint is in this position."
            ]
        },
        {
            "cell_type": "code",
            "execution_count": null,
            "metadata": {},
            "outputs": [],
            "source": [
                "arr"
            ]
        },
        {
            "cell_type": "markdown",
            "metadata": {
                "id": "zFGngFr-uP5k"
            },
            "source": [
                "### What are the ranges for each feature?"
            ]
        },
        {
            "cell_type": "markdown",
            "metadata": {
                "id": "wKGlg-0TuWT_"
            },
            "source": [
                "### Do all (values for all) features make sense? Are there any outliers?"
            ]
        },
        {
            "cell_type": "markdown",
            "metadata": {},
            "source": []
        },
        {
            "cell_type": "markdown",
            "metadata": {},
            "source": [
                "## Load Train and test data set"
            ]
        },
        {
            "cell_type": "code",
            "execution_count": 15,
            "metadata": {},
            "outputs": [],
            "source": [
                "def load_data(path):\n",
                "    arr = np.load(path)\n",
                "    nb_samples, nb_keypoints, nb_values = arr.shape\n",
                "\n",
                "    # Flatten samples, add an additional column: action identifier\n",
                "    res = np.empty((nb_samples, nb_keypoints * nb_values + 1))\n",
                "    res[:, :-1] = arr.reshape((nb_samples, nb_keypoints * nb_values))\n",
                "\n",
                "    # Fetch information\n",
                "    parts = path.split('-')\n",
                "    action_idx = parts[1]\n",
                "\n",
                "    # Set column info\n",
                "    res[:, -1] = action_idx\n",
                "\n",
                "    return res"
            ]
        },
        {
            "cell_type": "code",
            "execution_count": 21,
            "metadata": {},
            "outputs": [],
            "source": [
                "train_files = filter_files_by_action_or_group(DATA_FOLDER, 0, 6)\n",
                "Xy = np.vstack([load_data(c) for c in train_files])\n",
                "X = Xy[:, :-1]"
            ]
        },
        {
            "cell_type": "markdown",
            "metadata": {},
            "source": [
                "## Preprocessing"
            ]
        },
        {
            "cell_type": "markdown",
            "metadata": {},
            "source": [
                "### Min-Max Scaler\n",
                "The min-max scaling transforms the data by scaling features to a specific range in this case to [-1,1]."
            ]
        },
        {
            "cell_type": "code",
            "execution_count": 24,
            "metadata": {},
            "outputs": [],
            "source": [
                "from sklearn.preprocessing import MinMaxScaler\n",
                "\n",
                "scaler = MinMaxScaler(feature_range=(-1, 1))\n",
                "X_scaled = scaler.fit_transform(X)"
            ]
        },
        {
            "cell_type": "code",
            "execution_count": null,
            "metadata": {},
            "outputs": [],
            "source": [
                "variances_scaled = np.var(X_scaled, axis=0)\n",
                "plt.bar(range(len(variances_scaled)), variances_scaled)\n",
                "plt.title('Variance of Features Across Recordings After Scaling')\n",
                "plt.show()"
            ]
        },
        {
            "cell_type": "markdown",
            "metadata": {},
            "source": [
                "### Standard Scaler\n",
                "Normalization scales the feature values to have a mean of 0 and a standard deviation of 1. "
            ]
        },
        {
            "cell_type": "code",
            "execution_count": 26,
            "metadata": {},
            "outputs": [],
            "source": [
                "from sklearn.preprocessing import StandardScaler\n",
                "\n",
                "scaler = StandardScaler()\n",
                "X_normalized = scaler.fit_transform(X)"
            ]
        },
        {
            "cell_type": "code",
            "execution_count": null,
            "metadata": {},
            "outputs": [],
            "source": [
                "variances_normalized = np.var(X_normalized, axis=0)\n",
                "plt.bar(range(len(variances_normalized)), variances_normalized)\n",
                "plt.title('Variance of Features Across Recordings After Normalization')\n",
                "plt.show()"
            ]
        },
        {
            "cell_type": "markdown",
            "metadata": {},
            "source": [
                "### Principal Component Analysis (PCA) "
            ]
        },
        {
            "cell_type": "markdown",
            "metadata": {},
            "source": [
                "You can reduce variability using techniques like Principal Component Analysis (PCA) to eliminate redundant features and focus on the most significant variance contributors."
            ]
        },
        {
            "cell_type": "code",
            "execution_count": 32,
            "metadata": {},
            "outputs": [],
            "source": [
                "from sklearn.decomposition import PCA\n",
                "\n",
                "# Reduce the number of components while retaining 95% of the variance\n",
                "pca = PCA(n_components=0.95)\n",
                "X_reduced = pca.fit_transform(X_normalized)"
            ]
        },
        {
            "cell_type": "code",
            "execution_count": null,
            "metadata": {},
            "outputs": [],
            "source": [
                "variances_reduced = np.var(X_reduced, axis=0)\n",
                "plt.bar(range(len(variances_reduced)), variances_reduced)\n",
                "plt.title('Variance of Features Across Recordings After PCA')\n",
                "plt.show()"
            ]
        },
        {
            "cell_type": "code",
            "execution_count": null,
            "metadata": {},
            "outputs": [],
            "source": [
                "import seaborn as sns\n",
                "\n",
                "plt.figure()\n",
                "sns.boxplot(data=X_reduced, orient=\"v\")\n",
                "plt.title('Boxplot of Features')\n",
                "plt.xlabel('Feature Values')\n",
                "plt.show()"
            ]
        },
        {
            "cell_type": "markdown",
            "metadata": {},
            "source": [
                "### Pipeline"
            ]
        },
        {
            "cell_type": "code",
            "execution_count": null,
            "metadata": {},
            "outputs": [],
            "source": [
                "from sklearn.pipeline import make_pipeline\n",
                "\n",
                "\n",
                "model = make_pipeline(StandardScaler(), PCA(n_components=0.95))"
            ]
        }
    ],
    "metadata": {
        "colab": {
            "provenance": []
        },
        "kernelspec": {
            "display_name": "Python 3",
            "name": "python3"
        },
        "language_info": {
            "codemirror_mode": {
                "name": "ipython",
                "version": 3
            },
            "file_extension": ".py",
            "mimetype": "text/x-python",
            "name": "python",
            "nbconvert_exporter": "python",
            "pygments_lexer": "ipython3",
            "version": "3.11.1"
        }
    },
    "nbformat": 4,
    "nbformat_minor": 0
}
