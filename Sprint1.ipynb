{
    "cells": [
        {
            "cell_type": "markdown",
            "metadata": {
                "id": "aajdHWy6siK_"
            },
            "source": [
                "## Sprint 1"
            ]
        },
        {
            "cell_type": "code",
            "execution_count": 10,
            "metadata": {},
            "outputs": [],
            "source": [
                "DATA_FOLDER = \"actions\"\n",
                "\n",
                "action_labels = ['jumping jack', 'squat', 'in_place running', 'side lunge', 'boxing', 'overhead press', 'bicep curl']"
            ]
        },
        {
            "cell_type": "markdown",
            "metadata": {
                "id": "m5vvFdAMt4mJ"
            },
            "source": [
                "## Exploratory Data Analysis\n"
            ]
        },
        {
            "cell_type": "markdown",
            "metadata": {
                "id": "cz5w4-_UuBsF"
            },
            "source": [
                "### What is contained in the name of each file?"
            ]
        },
        {
            "cell_type": "markdown",
            "metadata": {
                "id": "z4KscMnuwxYZ"
            },
            "source": [
                "The name of the files all have the following structure: `action-X-group-Y-rec-Z.npy`.\n",
                "- X defines the type of exercise that was performed\n",
                " - 0: Jumping jack\n",
                " - 1: Squat\n",
                " - 2: In-place running\n",
                " - 3: Side lunge\n",
                " - 4: Boxing\n",
                " - 5: Overhead press\n",
                " - 6: Bicep curl\n",
                "- Y defines the group that performed these exercises\n",
                "- Z defines the person of that group.\n",
                "\n",
                "The .npy format is the standard binary file format in NumPy for persisting a single arbitrary NumPy array on disk.\n",
                "\n",
                "  "
            ]
        },
        {
            "cell_type": "markdown",
            "metadata": {
                "id": "_7tUsAZhuGjl"
            },
            "source": [
                "### How can you filter data by action, or by group?"
            ]
        },
        {
            "cell_type": "code",
            "execution_count": 11,
            "metadata": {
                "colab": {
                    "base_uri": "https://localhost:8080/"
                },
                "executionInfo": {
                    "elapsed": 256,
                    "status": "ok",
                    "timestamp": 1729242207375,
                    "user": {
                        "displayName": "PiewTix",
                        "userId": "03198414659954429767"
                    },
                    "user_tz": -120
                },
                "id": "ZLZjhVQgzDjA",
                "outputId": "c50f3df2-0da3-471d-819b-a397451c53c7"
            },
            "outputs": [],
            "source": [
                "import glob\n",
                "\n",
                "#for actions\n",
                "filtered_actions = glob.glob(f'{DATA_FOLDER}/*action-[1-2]*.npy')\n",
                "\n",
                "#for groups\n",
                "filtered_groups = glob.glob(f'{DATA_FOLDER}/*group-[1-7]*.npy')"
            ]
        },
        {
            "cell_type": "markdown",
            "metadata": {
                "id": "CWaDU5Etzr66"
            },
            "source": [
                "Above, it was illustrated how to filter files using standard Regex code.\n",
                "\n",
                "`*`: this is meant to match any number of characters, including none. This will match any string of characters before the word \"action-\" or \"group-\".\n",
                "\n",
                "`[1-2]`: This part inside square brackets is a character range. It matches a single character that can be either 1 or 2.\n",
                "\n",
                "A function was made to do this:"
            ]
        },
        {
            "cell_type": "code",
            "execution_count": 12,
            "metadata": {
                "executionInfo": {
                    "elapsed": 241,
                    "status": "ok",
                    "timestamp": 1729242144036,
                    "user": {
                        "displayName": "PiewTix",
                        "userId": "03198414659954429767"
                    },
                    "user_tz": -120
                },
                "id": "yZze4oJf1L-r"
            },
            "outputs": [],
            "source": [
                "def filter_files_by_action_or_group(directory, action_start,action_end, groups_start, groups_end):\n",
                "    filtered=glob.glob(f\"{directory}/*action-[{action_start}-{action_end}]*group-[{groups_start}-{groups_end}]*.npy\")\n",
                "    return filtered"
            ]
        },
        {
            "cell_type": "markdown",
            "metadata": {
                "id": "Ia6O8MY6uNxZ"
            },
            "source": [
                "### Is the data balanced?"
            ]
        },
        {
            "cell_type": "code",
            "execution_count": 13,
            "metadata": {
                "colab": {
                    "base_uri": "https://localhost:8080/"
                },
                "executionInfo": {
                    "elapsed": 330,
                    "status": "ok",
                    "timestamp": 1729242145999,
                    "user": {
                        "displayName": "PiewTix",
                        "userId": "03198414659954429767"
                    },
                    "user_tz": -120
                },
                "id": "hkcLhugd2kCE",
                "outputId": "9fce036c-ce8a-4921-8750-be87c826cb5a"
            },
            "outputs": [
                {
                    "data": {
                        "image/png": "[encoded data removed]",
                        "text/plain": [
                            "<Figure size 1000x600 with 1 Axes>"
                        ]
                    },
                    "metadata": {},
                    "output_type": "display_data"
                }
            ],
            "source": [
                "import matplotlib.pyplot as plt\n",
                "\n",
                "actions = range(0, len(action_labels))\n",
                "data_count = []\n",
                "\n",
                "for action in actions:\n",
                "    files = filter_files_by_action_or_group(DATA_FOLDER, action, action, 0, 9)\n",
                "    data_count.append(len(files))\n",
                "\n",
                "plt.figure(figsize=(10, 6))\n",
                "plt.bar(action_labels, data_count, color='blue')\n",
                "plt.xlabel('Actions')\n",
                "plt.ylabel('Number of files')\n",
                "plt.title('Number of Files per Action')\n",
                "plt.xticks(actions)\n",
                "plt.show()"
            ]
        },
        {
            "cell_type": "markdown",
            "metadata": {},
            "source": [
                "### What does the data look like?"
            ]
        },
        {
            "cell_type": "code",
            "execution_count": 16,
            "metadata": {},
            "outputs": [
                {
                    "data": {
                        "text/plain": [
                            "(450, 18, 3)"
                        ]
                    },
                    "execution_count": 16,
                    "metadata": {},
                    "output_type": "execute_result"
                }
            ],
            "source": [
                "import numpy as np\n",
                "\n",
                "arr=np.load(filtered_actions[0]) # load 1 file\n",
                "nb_samples, nb_keypoints, nb_values=arr.shape\n",
                "arr.shape"
            ]
        },
        {
            "cell_type": "markdown",
            "metadata": {},
            "source": [
                "The array consists of 450 samples that contain the 18 keypoints their position. The value contains the X and Y position and the last value is the confidence that this keypoint is in this position."
            ]
        },
        {
            "cell_type": "code",
            "execution_count": 17,
            "metadata": {},
            "outputs": [
                {
                    "data": {
                        "text/plain": [
                            "array([[[339.13041663, 110.03583074,   0.91425604],\n",
                            "        [341.18283582, 166.47735834,   0.86502254],\n",
                            "        [292.95098495, 168.52977753,   0.8816126 ],\n",
                            "        ...,\n",
                            "        [349.39251256, 101.82615399,   0.93395025],\n",
                            "        [318.60622478, 111.06204033,   0.88826299],\n",
                            "        [361.70702767, 110.03583074,   0.89004636]],\n",
                            "\n",
                            "       [[339.57155061, 114.30578411,   0.98112571],\n",
                            "        [341.06572831, 169.09230083,   0.87628418],\n",
                            "        [292.7539827 , 171.0845378 ,   0.88074875],\n",
                            "        ...,\n",
                            "        [348.5366168 , 104.34459925,   0.9854877 ],\n",
                            "        [318.65306282, 114.30578411,   0.92334008],\n",
                            "        [361.48615686, 112.31354713,   0.93298388]],\n",
                            "\n",
                            "       [[339.88334274, 119.2342428 ,   0.97386569],\n",
                            "        [341.84236018, 174.5764876 ,   0.86433315],\n",
                            "        [292.86692429, 175.06624198,   0.86985403],\n",
                            "        ...,\n",
                            "        [348.6989212 , 109.43915522,   0.97564375],\n",
                            "        [318.33415095, 119.2342428 ,   0.92351258],\n",
                            "        [361.43253454, 117.27522528,   0.91609776]],\n",
                            "\n",
                            "       ...,\n",
                            "\n",
                            "       [[342.35583504, 237.44960171,   0.89888632],\n",
                            "        [344.52552493, 276.50401872,   0.80648005],\n",
                            "        [296.06911731, 279.3969385 ,   0.8269192 ],\n",
                            "        ...,\n",
                            "        [351.75782458, 226.60115254,   0.93000215],\n",
                            "        [321.38216607, 228.04761243,   0.85830843],\n",
                            "        [364.77596394, 228.04761243,   0.91496503]],\n",
                            "\n",
                            "       [[341.89131212, 251.45992565,   0.88536286],\n",
                            "        [345.35317135, 289.88656306,   0.78203356],\n",
                            "        [296.88714218, 291.61749268,   0.81605017],\n",
                            "        ...,\n",
                            "        [351.58451796, 240.38197613,   0.90269923],\n",
                            "        [320.42778492, 241.07434797,   0.85272765],\n",
                            "        [365.43195486, 241.07434797,   0.89799035]],\n",
                            "\n",
                            "       [[342.94555461, 265.89023364,   0.89559078],\n",
                            "        [346.23232102, 302.70201743,   0.80199683],\n",
                            "        [297.58817816, 304.01672399,   0.82452965],\n",
                            "        ...,\n",
                            "        [352.14850056, 254.71522784,   0.90691662],\n",
                            "        [321.25289631, 254.05787456,   0.87158513],\n",
                            "        [365.95291948, 254.05787456,   0.8942917 ]]])"
                        ]
                    },
                    "execution_count": 17,
                    "metadata": {},
                    "output_type": "execute_result"
                }
            ],
            "source": [
                "arr"
            ]
        },
        {
            "cell_type": "markdown",
            "metadata": {
                "id": "zFGngFr-uP5k"
            },
            "source": [
                "### What are the ranges for each feature?"
            ]
        },
        {
            "cell_type": "markdown",
            "metadata": {
                "id": "wKGlg-0TuWT_"
            },
            "source": [
                "### Do all (values for all) features make sense? Are there any outliers?"
            ]
        },
        {
            "cell_type": "markdown",
            "metadata": {},
            "source": []
        }
    ],
    "metadata": {
        "colab": {
            "provenance": []
        },
        "kernelspec": {
            "display_name": "Python 3",
            "name": "python3"
        },
        "language_info": {
            "codemirror_mode": {
                "name": "ipython",
                "version": 3
            },
            "file_extension": ".py",
            "mimetype": "text/x-python",
            "name": "python",
            "nbconvert_exporter": "python",
            "pygments_lexer": "ipython3",
            "version": "3.11.1"
        }
    },
    "nbformat": 4,
    "nbformat_minor": 0
}
