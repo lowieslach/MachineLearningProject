{
    "cells": [
        {
            "cell_type": "markdown",
            "metadata": {
                "id": "aajdHWy6siK_"
            },
            "source": [
                "## Sprint 1"
            ]
        },
        {
            "cell_type": "code",
            "execution_count": 2,
            "metadata": {},
            "outputs": [],
            "source": [
                "DATA_FOLDER = \"actions\""
            ]
        },
        {
            "cell_type": "markdown",
            "metadata": {
                "id": "m5vvFdAMt4mJ"
            },
            "source": [
                "## Exploratory Data Analysis\n"
            ]
        },
        {
            "cell_type": "markdown",
            "metadata": {
                "id": "cz5w4-_UuBsF"
            },
            "source": [
                "### What is contained in the name of each file?"
            ]
        },
        {
            "cell_type": "markdown",
            "metadata": {
                "id": "z4KscMnuwxYZ"
            },
            "source": [
                "The name of the files all have the following structure: `action-X-group-Y-rec-Z.npy`.\n",
                "- X defines the type of exercise that was performed\n",
                " - 0: Jumping jack\n",
                " - 1: Squat\n",
                " - 2: In-place running\n",
                " - 3: Side lunge\n",
                " - 4: Boxing\n",
                " - 5: Overhead press\n",
                " - 6: Bicep curl\n",
                "- Y defines the group that performed these exercises\n",
                "- Z defines the person of that group.\n",
                "\n",
                "The .npy format is the standard binary file format in NumPy for persisting a single arbitrary NumPy array on disk.\n",
                "\n",
                "  "
            ]
        },
        {
            "cell_type": "markdown",
            "metadata": {
                "id": "_7tUsAZhuGjl"
            },
            "source": [
                "### How can you filter data by action, or by group?"
            ]
        },
        {
            "cell_type": "code",
            "execution_count": null,
            "metadata": {
                "colab": {
                    "base_uri": "https://localhost:8080/"
                },
                "executionInfo": {
                    "elapsed": 256,
                    "status": "ok",
                    "timestamp": 1729242207375,
                    "user": {
                        "displayName": "PiewTix",
                        "userId": "03198414659954429767"
                    },
                    "user_tz": -120
                },
                "id": "ZLZjhVQgzDjA",
                "outputId": "c50f3df2-0da3-471d-819b-a397451c53c7"
            },
            "outputs": [],
            "source": [
                "import glob\n",
                "\n",
                "#for actions\n",
                "filtered_actions = glob.glob(f'{DATA_FOLDER}/*action-[1-2]*.npy')\n",
                "\n",
                "#for groups\n",
                "filtered_groups = glob.glob(f'{DATA_FOLDER}/*group-[1-7]*.npy')"
            ]
        },
        {
            "cell_type": "markdown",
            "metadata": {
                "id": "CWaDU5Etzr66"
            },
            "source": [
                "Above, it was illustrated how to filter files using standard Regex code.\n",
                "\n",
                "`*`: this is meant to match any number of characters, including none. This will match any string of characters before the word \"action-\" or \"group-\".\n",
                "\n",
                "`[1-2]`: This part inside square brackets is a character range. It matches a single character that can be either 1 or 2.\n",
                "\n",
                "A function was made to do this:"
            ]
        },
        {
            "cell_type": "code",
            "execution_count": 4,
            "metadata": {
                "executionInfo": {
                    "elapsed": 241,
                    "status": "ok",
                    "timestamp": 1729242144036,
                    "user": {
                        "displayName": "PiewTix",
                        "userId": "03198414659954429767"
                    },
                    "user_tz": -120
                },
                "id": "yZze4oJf1L-r"
            },
            "outputs": [],
            "source": [
                "def filter_files_by_action_or_group(directory, action_start,action_end, groups_start, groups_end):\n",
                "    filtered=glob.glob(f\"{directory}/*action-[{action_start}-{action_end}]*group-[{groups_start}-{groups_end}]*.npy\")\n",
                "    return filtered"
            ]
        },
        {
            "cell_type": "markdown",
            "metadata": {
                "id": "Ia6O8MY6uNxZ"
            },
            "source": [
                "### Is the data balanced?"
            ]
        },
        {
            "cell_type": "code",
            "execution_count": null,
            "metadata": {
                "colab": {
                    "base_uri": "https://localhost:8080/"
                },
                "executionInfo": {
                    "elapsed": 330,
                    "status": "ok",
                    "timestamp": 1729242145999,
                    "user": {
                        "displayName": "PiewTix",
                        "userId": "03198414659954429767"
                    },
                    "user_tz": -120
                },
                "id": "hkcLhugd2kCE",
                "outputId": "9fce036c-ce8a-4921-8750-be87c826cb5a"
            },
            "outputs": [],
            "source": [
                "filter_files_by_action_or_group(DATA_FOLDER, 0, 6, 0, 9)"
            ]
        },
        {
            "cell_type": "markdown",
            "metadata": {
                "id": "zFGngFr-uP5k"
            },
            "source": [
                "### What are the ranges for each feature?"
            ]
        },
        {
            "cell_type": "markdown",
            "metadata": {
                "id": "wKGlg-0TuWT_"
            },
            "source": [
                "### Do all (values for all) features make sense? Are there any outliers?"
            ]
        }
    ],
    "metadata": {
        "colab": {
            "provenance": []
        },
        "kernelspec": {
            "display_name": "Python 3",
            "name": "python3"
        },
        "language_info": {
            "codemirror_mode": {
                "name": "ipython",
                "version": 3
            },
            "file_extension": ".py",
            "mimetype": "text/x-python",
            "name": "python",
            "nbconvert_exporter": "python",
            "pygments_lexer": "ipython3",
            "version": "3.11.1"
        }
    },
    "nbformat": 4,
    "nbformat_minor": 0
}
